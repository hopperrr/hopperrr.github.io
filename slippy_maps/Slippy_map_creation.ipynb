{
  "nbformat": 4,
  "nbformat_minor": 0,
  "metadata": {
    "colab": {
      "provenance": []
    },
    "kernelspec": {
      "name": "python3",
      "display_name": "Python 3"
    },
    "language_info": {
      "name": "python"
    }
  },
  "cells": [
    {
      "cell_type": "code",
      "execution_count": null,
      "metadata": {
        "id": "VgO6FlHHY8lP"
      },
      "outputs": [],
      "source": [
        "#Source: https://ngmdb.usgs.gov/Prodesc/proddesc_47.htm"
      ]
    },
    {
      "cell_type": "code",
      "source": [
        "!pip install patool\n",
        "!add-apt-repository ppa:ubuntugis/ppa && apt-get update\n",
        "!apt-get install gdal-bin\n",
        "#https://gdal.org/programs/gdal2tiles.html"
      ],
      "metadata": {
        "id": "ZOmjaLXvZXSq"
      },
      "execution_count": null,
      "outputs": []
    },
    {
      "cell_type": "code",
      "source": [
        "import patoolib\n",
        "#!wget 'https://ngmdb.usgs.gov/ngm-bin/pdp/download.pl?q=6881_47_5'\n",
        "patoolib.extract_archive(\"/content/USGS_I-1905.zip\",outdir=\"/content\")"
      ],
      "metadata": {
        "colab": {
          "base_uri": "https://localhost:8080/",
          "height": 87
        },
        "id": "Ol2rFb9OZY-g",
        "outputId": "beacf3c0-d787-467c-baf7-279024cf374c"
      },
      "execution_count": 5,
      "outputs": [
        {
          "output_type": "stream",
          "name": "stdout",
          "text": [
            "patool: Extracting /content/USGS_I-1905.zip ...\n",
            "patool: running /usr/bin/7z x -o/content -- /content/USGS_I-1905.zip\n",
            "patool: ... /content/USGS_I-1905.zip extracted to `/content'.\n"
          ]
        },
        {
          "output_type": "execute_result",
          "data": {
            "text/plain": [
              "'/content'"
            ],
            "application/vnd.google.colaboratory.intrinsic+json": {
              "type": "string"
            }
          },
          "metadata": {},
          "execution_count": 5
        }
      ]
    },
    {
      "cell_type": "code",
      "source": [
        "!whereis gdal2tiles.py"
      ],
      "metadata": {
        "id": "kppm5R9-bAlh"
      },
      "execution_count": null,
      "outputs": []
    },
    {
      "cell_type": "code",
      "source": [
        "!mkdir usgs_I_1905\n",
        "!python3 /usr/bin/gdal2tiles.py --xyz --zoom=6-14 /content/USGS_I-1905_1.tif usgs_I_1905"
      ],
      "metadata": {
        "colab": {
          "base_uri": "https://localhost:8080/"
        },
        "id": "F2tTd33RaQ0g",
        "outputId": "f64f0a71-eba3-48c6-c324-b080b3291d98"
      },
      "execution_count": 11,
      "outputs": [
        {
          "output_type": "stream",
          "name": "stdout",
          "text": [
            "Generating Base Tiles:\n",
            "0...10...20...30...40...50...60...70...80...90...100\n",
            "Generating Overview Tiles:\n",
            "0...10...20...30...40...50...60...70...80...90...100\n"
          ]
        }
      ]
    },
    {
      "cell_type": "code",
      "source": [
        "!zip -r /content/file.zip /content/usgs_I_1905\n",
        "\n",
        "from google.colab import files\n",
        "files.download(\"/content/file.zip\")"
      ],
      "metadata": {
        "colab": {
          "base_uri": "https://localhost:8080/",
          "height": 1000
        },
        "id": "n9DNt5iOyENd",
        "outputId": "af19b947-7f24-4e93-91bd-895fa6325bb8"
      },
      "execution_count": 12,
      "outputs": [
        {
          "output_type": "stream",
          "name": "stdout",
          "text": [
            "  adding: content/usgs_I_1905/ (stored 0%)\n",
            "  adding: content/usgs_I_1905/7/20/49.png (deflated 4%)\n"
          ]
        },
        {
          "output_type": "display_data",
          "data": {
            "text/plain": [
              "<IPython.core.display.Javascript object>"
            ],
            "application/javascript": [
              "\n",
              "    async function download(id, filename, size) {\n",
              "      if (!google.colab.kernel.accessAllowed) {\n",
              "        return;\n",
              "      }\n",
              "      const div = document.createElement('div');\n",
              "      const label = document.createElement('label');\n",
              "      label.textContent = `Downloading \"${filename}\": `;\n",
              "      div.appendChild(label);\n",
              "      const progress = document.createElement('progress');\n",
              "      progress.max = size;\n",
              "      div.appendChild(progress);\n",
              "      document.body.appendChild(div);\n",
              "\n",
              "      const buffers = [];\n",
              "      let downloaded = 0;\n",
              "\n",
              "      const channel = await google.colab.kernel.comms.open(id);\n",
              "      // Send a message to notify the kernel that we're ready.\n",
              "      channel.send({})\n",
              "\n",
              "      for await (const message of channel.messages) {\n",
              "        // Send a message to notify the kernel that we're ready.\n",
              "        channel.send({})\n",
              "        if (message.buffers) {\n",
              "          for (const buffer of message.buffers) {\n",
              "            buffers.push(buffer);\n",
              "            downloaded += buffer.byteLength;\n",
              "            progress.value = downloaded;\n",
              "          }\n",
              "        }\n",
              "      }\n",
              "      const blob = new Blob(buffers, {type: 'application/binary'});\n",
              "      const a = document.createElement('a');\n",
              "      a.href = window.URL.createObjectURL(blob);\n",
              "      a.download = filename;\n",
              "      div.appendChild(a);\n",
              "      a.click();\n",
              "      div.remove();\n",
              "    }\n",
              "  "
            ]
          },
          "metadata": {}
        },
        {
          "output_type": "display_data",
          "data": {
            "text/plain": [
              "<IPython.core.display.Javascript object>"
            ],
            "application/javascript": [
              "download(\"download_c5728bb9-f64e-4c0d-bfaf-41052aa80188\", \"file.zip\", 127548287)"
            ]
          },
          "metadata": {}
        }
      ]
    },
    {
      "cell_type": "code",
      "source": [
        "#Once the zipped folder is downloaded, push to github"
      ],
      "metadata": {
        "id": "ovRp_I_0Aezo"
      },
      "execution_count": null,
      "outputs": []
    }
  ]
}
